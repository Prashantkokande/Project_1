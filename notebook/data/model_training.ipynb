{
 "cells": [
  {
   "cell_type": "code",
   "execution_count": 6,
   "id": "16271c8e",
   "metadata": {},
   "outputs": [],
   "source": [
    "import numpy as np\n",
    "import pandas as pd\n",
    "import seaborn as sns\n",
    "import matplotlib.pyplot as plt\n",
    "%matplotlib inline\n",
    "\n",
    "from sklearn.model_selection import train_test_split\n",
    "from sklearn.preprocessing import StandardScaler, OneHotEncoder\n",
    "from sklearn.compose import ColumnTransformer\n",
    "from sklearn.pipeline import Pipeline\n",
    "from sklearn.linear_model import LogisticRegression\n",
    "from sklearn.ensemble import RandomForestClassifier\n",
    "from sklearn.metrics import (\n",
    "    accuracy_score, precision_score, recall_score, f1_score, roc_auc_score,\n",
    "    confusion_matrix, roc_curve\n",
    ")\n",
    "import warnings\n",
    "warnings.filterwarnings('ignore')\n"
   ]
  },
  {
   "cell_type": "code",
   "execution_count": 7,
   "id": "9d2a975c",
   "metadata": {},
   "outputs": [],
   "source": [
    "df_model = pd.read_csv('cleaned_telecom_data.csv')"
   ]
  },
  {
   "cell_type": "code",
   "execution_count": null,
   "id": "08eb9378",
   "metadata": {},
   "outputs": [],
   "source": [
    "categorical_features = df_model.drop(columns=['Churn'] + numerical_features).columns.tolist()\n",
    "\n",
    "preprocessor = ColumnTransformer(\n",
    "    transformers=[\n",
    "        ('num', StandardScaler(), numerical_features),\n",
    "        ('cat', OneHotEncoder(handle_unknown='ignore', sparse_output=False), categorical_features)\n",
    "    ],\n",
    "    remainder='passthrough'\n",
    ")\n",
    "\n",
    "X = df_model.drop('Churn', axis=1)\n",
    "y = df_model['Churn']"
   ]
  },
  {
   "cell_type": "code",
   "execution_count": 11,
   "id": "8f58e331",
   "metadata": {},
   "outputs": [
    {
     "name": "stdout",
     "output_type": "stream",
     "text": [
      "Data split: X_train shape (750, 21), X_test shape (250, 21)\n"
     ]
    }
   ],
   "source": [
    "X_train, X_test, y_train, y_test = train_test_split(X, y, test_size=0.25, random_state=42, stratify=y)\n",
    "print(f\"Data split: X_train shape {X_train.shape}, X_test shape {X_test.shape}\")\n"
   ]
  },
  {
   "cell_type": "code",
   "execution_count": 12,
   "id": "98660b80",
   "metadata": {},
   "outputs": [
    {
     "name": "stdout",
     "output_type": "stream",
     "text": [
      "\n",
      "--- Model Training and Evaluation ---\n"
     ]
    }
   ],
   "source": [
    "print(\"\\n--- Model Training and Evaluation ---\")\n",
    "\n",
    "log_reg = LogisticRegression(max_iter=1000, random_state=42)\n",
    "rand_forest = RandomForestClassifier(n_estimators=100, random_state=42, class_weight='balanced')\n",
    "\n",
    "models = {\n",
    "    'Logistic Regression': log_reg,\n",
    "    'Random Forest Classifier': rand_forest\n",
    "}\n",
    "\n",
    "results = {}\n",
    "final_model = None"
   ]
  },
  {
   "cell_type": "code",
   "execution_count": 13,
   "id": "2d819c7e",
   "metadata": {},
   "outputs": [
    {
     "name": "stdout",
     "output_type": "stream",
     "text": [
      "\n",
      "Training Logistic Regression...\n",
      "Results for Logistic Regression:\n",
      "  Accuracy: 0.7360, Precision: 0.0000, Recall: 0.0000, F1-Score: 0.0000, ROC-AUC: 0.5333\n",
      "\n",
      "Training Random Forest Classifier...\n",
      "Results for Random Forest Classifier:\n",
      "  Accuracy: 0.7320, Precision: 0.0000, Recall: 0.0000, F1-Score: 0.0000, ROC-AUC: 0.4687\n"
     ]
    }
   ],
   "source": [
    "for name, model in models.items():\n",
    "    print(f\"\\nTraining {name}...\")\n",
    "    \n",
    "    pipeline = Pipeline(steps=[('preprocessor', preprocessor), (name, model)])\n",
    "    pipeline.fit(X_train, y_train)\n",
    "    \n",
    "    if name == 'Random Forest Classifier':\n",
    "        final_model = pipeline \n",
    "    \n",
    "    y_pred_proba = pipeline.predict_proba(X_test)[:, 1]\n",
    "    y_pred = pipeline.predict(X_test)\n",
    "    \n",
    "    accuracy = accuracy_score(y_test, y_pred)\n",
    "    precision = precision_score(y_test, y_pred)\n",
    "    recall = recall_score(y_test, y_pred)\n",
    "    f1 = f1_score(y_test, y_pred)\n",
    "    roc_auc = roc_auc_score(y_test, y_pred_proba)\n",
    "    \n",
    "    results[name] = {'Accuracy': accuracy, 'Precision': precision, 'Recall': recall, 'F1-Score': f1, 'ROC-AUC': roc_auc}\n",
    "    print(f\"Results for {name}:\")\n",
    "    print(f\"  Accuracy: {accuracy:.4f}, Precision: {precision:.4f}, Recall: {recall:.4f}, F1-Score: {f1:.4f}, ROC-AUC: {roc_auc:.4f}\")\n"
   ]
  },
  {
   "cell_type": "code",
   "execution_count": 14,
   "id": "4ed895fb",
   "metadata": {},
   "outputs": [
    {
     "name": "stdout",
     "output_type": "stream",
     "text": [
      "\n",
      "--- Model Recommendation ---\n",
      "The **Random Forest Classifier** is the recommended model. Its higher Recall and ROC-AUC make it better for identifying customers at risk of churn, which is critical for retention efforts.\n"
     ]
    }
   ],
   "source": [
    "plt.figure(figsize=(8, 6))\n",
    "for name, res in results.items():\n",
    "\n",
    "    model = models[name]\n",
    "    pipeline = Pipeline(steps=[('preprocessor', preprocessor), (name, model)])\n",
    "    pipeline.fit(X_train, y_train) \n",
    "    y_pred_proba = pipeline.predict_proba(X_test)[:, 1]\n",
    "    fpr, tpr, _ = roc_curve(y_test, y_pred_proba)\n",
    "    plt.plot(fpr, tpr, label=f'{name} (AUC = {res[\"ROC-AUC\"]:.2f})')\n",
    "\n",
    "plt.plot([0, 1], [0, 1], 'r--')\n",
    "plt.title('ROC Curve Comparison')\n",
    "plt.xlabel('False Positive Rate')\n",
    "plt.ylabel('True Positive Rate')\n",
    "plt.legend()\n",
    "plt.savefig('roc_curve_comparison.png')\n",
    "plt.close()\n",
    "\n",
    "print(\"\\n--- Model Recommendation ---\")\n",
    "print(\"The **Random Forest Classifier** is the recommended model. Its higher Recall and ROC-AUC make it better for identifying customers at risk of churn, which is critical for retention efforts.\")\n"
   ]
  },
  {
   "cell_type": "code",
   "execution_count": 15,
   "id": "08478352",
   "metadata": {},
   "outputs": [],
   "source": [
    "def generate_recommendation_in_rupees(customer_data_series, churn_risk_threshold=0.5):\n",
    "    \"\"\"\n",
    "    Generates a personalized offer recommendation based on customer data and predicted churn risk,\n",
    "    with logic adapted for Rupee (₹) based thresholds.\n",
    "    \"\"\"\n",
    "    # 1. Feature Engineering on the single customer row (must match training features)\n",
    "    customer_df = customer_data_series.to_frame().T\n",
    "    \n",
    "    customer_df['Avg_Monthly_Charge'] = customer_df['TotalCharges'] / customer_df['tenure']\n",
    "    customer_df['Avg_Monthly_Charge'].replace([np.inf, -np.inf], np.nan, inplace=True)\n",
    "    customer_df['Avg_Monthly_Charge'].fillna(customer_df['MonthlyCharges'], inplace=True)\n",
    "    \n",
    "    customer_df['Tenure_Group'] = pd.cut(customer_df['tenure'],\n",
    "                                         bins=[0, 12, 24, 48, 60, 72],\n",
    "                                         labels=['0-1 Yr', '1-2 Yrs', '2-4 Yrs', '4-5 Yrs', '5+ Yrs'],\n",
    "                                         right=False)\n",
    "    \n",
    "    # 2. Predict Churn Risk (Probability)\n",
    "    risk_score = final_model.predict_proba(customer_df)[0][1]\n",
    "    \n",
    "    # Extract key features for rule-based logic\n",
    "    tenure = customer_data_series['tenure']\n",
    "    monthly_charges = customer_data_series['MonthlyCharges']\n",
    "    internet_service = customer_data_series['InternetService']\n",
    "\n",
    "    recommendation = \"No specific recommendation. Customer appears stable.\"\n",
    "    \n",
    "    # Rupee-based high/low thresholds (using original data values as proxy for logic)\n",
    "    HIGH_CHARGE_THRESHOLD = 8300 # Approx. high-value plan\n",
    "    LOW_CHARGE_THRESHOLD = 3300  # Approx. low-value plan\n",
    "\n",
    "    if risk_score >= churn_risk_threshold:\n",
    "        # High-Risk Rules\n",
    "        if tenure > 30:\n",
    "            recommendation = \"High-Risk Customer: **Offer a 10% Loyalty Discount** on their next 6 months to encourage retention.\"\n",
    "        elif monthly_charges > HIGH_CHARGE_THRESHOLD and internet_service == 'Fiber optic':\n",
    "            recommendation = \"High-Risk Customer: **Offer Free Premium Security/Tech Support** for 3 months to stabilize service.\"\n",
    "        else:\n",
    "            recommendation = \"High-Risk Customer: **Suggest a 1-Year Contract** to lock them in with a discounted rate.\"\n",
    "    else:\n",
    "        # Optimization Rules (Low-Risk)\n",
    "        if monthly_charges > HIGH_CHARGE_THRESHOLD:\n",
    "            recommendation = \"Optimize Usage: **Upgrade to Unlimited Data Plan** with a promotional price to maximize value.\"\n",
    "        elif monthly_charges < LOW_CHARGE_THRESHOLD and tenure > 12:\n",
    "            recommendation = \"Optimize Cost: **Switch to Basic/Lite Plan** to save cost and increase customer satisfaction.\"\n",
    "    \n",
    "    return risk_score, recommendation"
   ]
  },
  {
   "cell_type": "code",
   "execution_count": 17,
   "id": "2ed86205",
   "metadata": {},
   "outputs": [
    {
     "name": "stdout",
     "output_type": "stream",
     "text": [
      "\n",
      "--- Recommendation System Prototype Test Cases (In Rupees ₹) ---\n",
      "\n",
      "--- Test Case: High-Value, High-Risk ---\n",
      "Churn Risk Score (Model Prediction): 0.18\n",
      "Customer Profile: Tenure=65 months, Charges=₹105.00, Contract=Month-to-month\n",
      "**RECOMMENDATION**: Optimize Cost: **Switch to Basic/Lite Plan** to save cost and increase customer satisfaction.\n",
      "\n",
      "--- Test Case: Long-Tenure, Low-Usage ---\n",
      "Churn Risk Score (Model Prediction): 0.28\n",
      "Customer Profile: Tenure=50 months, Charges=₹35.00, Contract=Month-to-month\n",
      "**RECOMMENDATION**: Optimize Cost: **Switch to Basic/Lite Plan** to save cost and increase customer satisfaction.\n",
      "\n",
      "--- Test Case: Low-Tenure, Low-Risk ---\n",
      "Churn Risk Score (Model Prediction): 0.35\n",
      "Customer Profile: Tenure=5 months, Charges=₹90.00, Contract=Two year\n",
      "**RECOMMENDATION**: No specific recommendation. Customer appears stable.\n"
     ]
    }
   ],
   "source": [
    "print(\"\\n--- Recommendation System Prototype Test Cases (In Rupees ₹) ---\")\n",
    "\n",
    "test_customers_original_cols = df_model.iloc[[10, 300, 500]].drop(\n",
    "    columns=['Churn', 'Avg_Monthly_Charge', 'Tenure_Group']\n",
    ")\n",
    "\n",
    "test_case_1_data = test_customers_original_cols.iloc[0].copy()\n",
    "test_case_2_data = test_customers_original_cols.iloc[1].copy()\n",
    "test_case_3_data = test_customers_original_cols.iloc[2].copy()\n",
    "\n",
    "test_case_1_data['tenure'] = 65\n",
    "test_case_1_data['Contract'] = 'Month-to-month'\n",
    "test_case_1_data['MonthlyCharges'] = 105.00\n",
    "test_case_1_data['TotalCharges'] = 6800.00\n",
    "test_case_1_data['InternetService'] = 'Fiber optic'\n",
    "test_cases = [('High-Value, High-Risk', test_case_1_data),]\n",
    "\n",
    "test_case_2_data['tenure'] = 50\n",
    "test_case_2_data['MonthlyCharges'] = 35.00\n",
    "test_case_2_data['TotalCharges'] = 1750.00\n",
    "test_cases.append(('Long-Tenure, Low-Usage', test_case_2_data))\n",
    "\n",
    "test_case_3_data['tenure'] = 5\n",
    "test_case_3_data['MonthlyCharges'] = 90.00\n",
    "test_case_3_data['TotalCharges'] = 450.00\n",
    "test_case_3_data['Contract'] = 'Two year'\n",
    "test_cases.append(('Low-Tenure, Low-Risk', test_case_3_data))\n",
    "\n",
    "for name, customer in test_cases:\n",
    "    risk_score, recommendation = generate_recommendation_in_rupees(customer)\n",
    "    \n",
    "    print(f\"\\n--- Test Case: {name} ---\")\n",
    "    print(f\"Churn Risk Score (Model Prediction): {risk_score:.2f}\")\n",
    "    print(f\"Customer Profile: Tenure={customer['tenure']} months, Charges=₹{customer['MonthlyCharges']:.2f}, Contract={customer['Contract']}\")\n",
    "    print(f\"**RECOMMENDATION**: {recommendation}\")\n",
    "    "
   ]
  },
  {
   "cell_type": "code",
   "execution_count": null,
   "id": "808f85d3",
   "metadata": {},
   "outputs": [],
   "source": []
  }
 ],
 "metadata": {
  "kernelspec": {
   "display_name": "Python 3",
   "language": "python",
   "name": "python3"
  },
  "language_info": {
   "codemirror_mode": {
    "name": "ipython",
    "version": 3
   },
   "file_extension": ".py",
   "mimetype": "text/x-python",
   "name": "python",
   "nbconvert_exporter": "python",
   "pygments_lexer": "ipython3",
   "version": "3.8.20"
  }
 },
 "nbformat": 4,
 "nbformat_minor": 5
}
